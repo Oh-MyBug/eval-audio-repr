{
 "cells": [
  {
   "cell_type": "markdown",
   "id": "0b0d77e5",
   "metadata": {},
   "source": [
    "CUDA_VISIBLE_DEVICES=0 python -m app.circor.solve_circor config/m2d.yaml circor1 weight_file=m2d_vit_base-80x608p16x16-221006-mr7/checkpoint-300.pth,encoder_only=True --lr=0.1 --freq_mask 0 --time_mask 0 --training_mask 0.0 --mixup 0.0 --rrc False --epochs 50 --warmup_epochs 0 --seed 8 --batch_size 1024 --hidden \\(128,\\) --reweight True"
   ]
  },
  {
   "cell_type": "code",
   "execution_count": null,
   "id": "ec038c47",
   "metadata": {},
   "outputs": [
    {
     "name": "stderr",
     "output_type": "stream",
     "text": [
      "d:\\anaconda3\\envs\\evar\\lib\\site-packages\\nnAudio\\Spectrogram.py:4: Warning: importing Spectrogram subpackage will be deprecated soon. You should import the feature extractor from the feature subpackage. See actual documentation.\n",
      "  warnings.warn(\n",
      "d:\\anaconda3\\envs\\evar\\lib\\site-packages\\tqdm\\auto.py:21: TqdmWarning: IProgress not found. Please update jupyter and ipywidgets. See https://ipywidgets.readthedocs.io/en/stable/user_install.html\n",
      "  from .autonotebook import tqdm as notebook_tqdm\n",
      "d:\\anaconda3\\envs\\evar\\lib\\site-packages\\transformers\\utils\\generic.py:441: FutureWarning: `torch.utils._pytree._register_pytree_node` is deprecated. Please use `torch.utils._pytree.register_pytree_node` instead.\n",
      "  _torch_pytree._register_pytree_node(\n",
      "d:\\anaconda3\\envs\\evar\\lib\\site-packages\\transformers\\utils\\generic.py:309: FutureWarning: `torch.utils._pytree._register_pytree_node` is deprecated. Please use `torch.utils._pytree.register_pytree_node` instead.\n",
      "  _torch_pytree._register_pytree_node(\n"
     ]
    },
    {
     "name": "stdout",
     "output_type": "stream",
     "text": [
      "weight_file=m2d_vit_base-80x608p16x16-221006-mr7/checkpoint-300.pth,encoder_only=True\n",
      "+task_metadata=evar/metadata/circor1.csv,+task_data=work/16k/circor1,+unit_samples=80000\n",
      "\n",
      "{'audio_repr': 'ar_m2d.AR_M2D', 'weight_file': 'm2d_vit_base-80x608p16x16-221006-mr7/checkpoint-300.pth', 'feature_d': 3840, 'sample_rate': 16000, 'n_fft': 400, 'window_size': 400, 'hop_size': 160, 'n_mels': 80, 'f_min': 50, 'f_max': 8000, 'window': 'hanning', 'mean': -7.1, 'std': 4.2, 'output_layers': [-1], 'encoder_only': True, 'dur_frames': None, 'freeze_embed': None, 'flat_features': False, 'batch_size': 128, 'lr_lineareval': 3e-05, 'report_per_epochs': 50, 'early_stop_epochs': 20, 'training_mask': 0.0, 'warmup_epochs': 5, 'mixup': 0.5, 'ft_bs': 128, 'ft_lr': 2.0, 'ft_early_stop_epochs': -1, 'ft_epochs': 200, 'ft_freq_mask': 30, 'ft_time_mask': 192, 'ft_noise': 0.0, 'ft_rrc': True, 'name': '', 'task_metadata': 'evar/metadata/circor1.csv', 'task_data': 'work/16k/circor1', 'unit_samples': 80000, 'id': 'm2d_vit_base-80x608p16x16-221006-mr7-checkpoint-300_circor1_7e5fbb16', 'task_name': 'circor1', 'return_filename': False} 1 False\n",
      "df:         index             file_name   label  split\n",
      "0          0   train\\2530_AV_0.wav  Absent  train\n",
      "1          1   train\\2530_AV_1.wav  Absent  train\n",
      "2          2   train\\2530_AV_2.wav  Absent  train\n",
      "3          3   train\\2530_AV_3.wav  Absent  train\n",
      "4          4   train\\2530_AV_4.wav  Absent  train\n",
      "...      ...                   ...     ...    ...\n",
      "17741  27356  train\\85349_TV_2.wav  Absent  train\n",
      "17742  27357  train\\85349_TV_3.wav  Absent  train\n",
      "17743  27358  train\\85349_TV_4.wav  Absent  train\n",
      "17744  27359  train\\85349_TV_5.wav  Absent  train\n",
      "17745  27360  train\\85349_TV_6.wav  Absent  train\n",
      "\n",
      "[17746 rows x 4 columns]\n",
      "self.multi_label:  False\n",
      "df:        index             file_name    label  split\n",
      "0       786  valid\\49562_AV_0.wav   Absent  valid\n",
      "1       787  valid\\49562_AV_1.wav   Absent  valid\n",
      "2       788  valid\\49562_AV_2.wav   Absent  valid\n",
      "3       789  valid\\49562_AV_3.wav   Absent  valid\n",
      "4       790  valid\\49562_AV_4.wav   Absent  valid\n",
      "...     ...                   ...      ...    ...\n",
      "2852  27232  valid\\85339_MV_3.wav  Present  valid\n",
      "2853  27233  valid\\85339_MV_4.wav  Present  valid\n",
      "2854  27234  valid\\85339_MV_5.wav  Present  valid\n",
      "2855  27235  valid\\85339_MV_6.wav  Present  valid\n",
      "2856  27236  valid\\85339_MV_7.wav  Present  valid\n",
      "\n",
      "[2857 rows x 4 columns]\n",
      "self.multi_label:  False\n",
      "df:        index            file_name    label split\n",
      "0        94  test\\13918_AV_0.wav  Present  test\n",
      "1        95  test\\13918_AV_1.wav  Present  test\n",
      "2        96  test\\13918_AV_2.wav  Present  test\n",
      "3        97  test\\13918_AV_3.wav  Present  test\n",
      "4        98  test\\13918_MV_0.wav  Present  test\n",
      "...     ...                  ...      ...   ...\n",
      "6753  27323  test\\85343_TV_2.wav  Present  test\n",
      "6754  27324  test\\85343_TV_3.wav  Present  test\n",
      "6755  27325  test\\85343_TV_4.wav  Present  test\n",
      "6756  27326  test\\85343_TV_5.wav  Present  test\n",
      "6757  27327  test\\85343_TV_6.wav  Present  test\n",
      "\n",
      "[6758 rows x 4 columns]\n",
      "self.multi_label:  False\n"
     ]
    }
   ],
   "source": [
    "import os\n",
    "os.chdir('F:/github/evar')\n",
    "\n",
    "config_file = 'config/m2d.yaml'\n",
    "task = 'circor1'\n",
    "options = 'weight_file=m2d_vit_base-80x608p16x16-221006-mr7/checkpoint-300.pth,encoder_only=True'\n",
    "weight_file = 'm2d_vit_base-80x608p16x16-221006-mr7/checkpoint-300.pth'\n",
    "unit_sec = None\n",
    "\n",
    "from lineareval import make_cfg\n",
    "cfg, n_folds, balanced = make_cfg(config_file, task, options, extras={}, abs_unit_sec=unit_sec)\n",
    "print(cfg, n_folds, balanced)\n",
    "\n",
    "from evar.data import create_dataloader\n",
    "train_loader, _, _, _ = create_dataloader(cfg, fold=0, seed=0, batch_size=1, balanced_random=balanced, pin_memory=False)\n"
   ]
  },
  {
   "cell_type": "code",
   "execution_count": 8,
   "id": "4fa97ba3",
   "metadata": {},
   "outputs": [
    {
     "name": "stdout",
     "output_type": "stream",
     "text": [
      "总患者数: 941\n",
      "有全部4个听诊位置的患者数: 587\n",
      "缺失听诊位置的患者数: 354\n",
      "例子：缺失的患者及已有部位：\n",
      "患者29378: {'AV', 'MV'}\n",
      "患者38337: {'AV', 'MV'}\n",
      "患者39456: {'PV', 'TV', 'MV'}\n",
      "患者46532: {'AV'}\n",
      "患者46778: {'MV'}\n",
      "患者47002: {'AV', 'MV'}\n",
      "患者49558: {'AV', 'MV'}\n",
      "患者49572: {'PV', 'TV', 'MV'}\n",
      "患者49595: {'AV', 'MV'}\n",
      "患者49598: {'AV', 'MV'}\n"
     ]
    }
   ],
   "source": [
    "import re\n",
    "import pandas as pd\n",
    "\n",
    "# 你上传的文件名\n",
    "filename = './evar/metadata/circor3.csv'\n",
    "\n",
    "import os\n",
    "os.chdir('F:/github/evar')\n",
    "# 读取文件\n",
    "with open(filename, 'r', encoding='utf-8') as f:\n",
    "    content = f.read()\n",
    "\n",
    "# 用正则提取所有样本名（捕获患者编号和听诊位置）\n",
    "pattern = re.compile(r'(\\d+)_([MATP]V)_\\d+\\.wav', re.IGNORECASE)\n",
    "patient_locs = {}\n",
    "\n",
    "for m in pattern.finditer(content):\n",
    "    patient = m.group(1)\n",
    "    loc = m.group(2).upper()\n",
    "    if patient not in patient_locs:\n",
    "        patient_locs[patient] = set()\n",
    "    patient_locs[patient].add(loc)\n",
    "\n",
    "# 检查每个患者的听诊位置是否齐全\n",
    "required_locs = {'MV', 'AV', 'TV', 'PV'}\n",
    "have_all = {pid: locs for pid, locs in patient_locs.items() if required_locs == locs}\n",
    "not_all = {pid: locs for pid, locs in patient_locs.items() if required_locs != locs}\n",
    "\n",
    "print(f\"总患者数: {len(patient_locs)}\")\n",
    "print(f\"有全部4个听诊位置的患者数: {len(have_all)}\")\n",
    "print(f\"缺失听诊位置的患者数: {len(not_all)}\")\n",
    "print(\"例子：缺失的患者及已有部位：\")\n",
    "for pid, locs in list(not_all.items())[:10]:\n",
    "    print(f\"患者{pid}: {locs}\")"
   ]
  },
  {
   "cell_type": "code",
   "execution_count": null,
   "id": "a7021deb",
   "metadata": {},
   "outputs": [
    {
     "name": "stderr",
     "output_type": "stream",
     "text": [
      "d:\\anaconda3\\envs\\evar\\lib\\site-packages\\nnAudio\\Spectrogram.py:4: Warning: importing Spectrogram subpackage will be deprecated soon. You should import the feature extractor from the feature subpackage. See actual documentation.\n",
      "  warnings.warn(\n",
      "d:\\anaconda3\\envs\\evar\\lib\\site-packages\\tqdm\\auto.py:21: TqdmWarning: IProgress not found. Please update jupyter and ipywidgets. See https://ipywidgets.readthedocs.io/en/stable/user_install.html\n",
      "  from .autonotebook import tqdm as notebook_tqdm\n",
      "d:\\anaconda3\\envs\\evar\\lib\\site-packages\\transformers\\utils\\generic.py:441: FutureWarning: `torch.utils._pytree._register_pytree_node` is deprecated. Please use `torch.utils._pytree.register_pytree_node` instead.\n",
      "  _torch_pytree._register_pytree_node(\n",
      "d:\\anaconda3\\envs\\evar\\lib\\site-packages\\transformers\\utils\\generic.py:309: FutureWarning: `torch.utils._pytree._register_pytree_node` is deprecated. Please use `torch.utils._pytree.register_pytree_node` instead.\n",
      "  _torch_pytree._register_pytree_node(\n"
     ]
    },
    {
     "name": "stdout",
     "output_type": "stream",
     "text": [
      "weight_file=m2d_vit_base-80x608p16x16-221006-mr7/checkpoint-300.pth,encoder_only=True\n",
      "+task_metadata=evar/metadata/circor1.csv,+task_data=work/16k/circor1,+unit_samples=80000\n",
      "\n",
      "Loaded 17746 records for train split\n"
     ]
    },
    {
     "name": "stderr",
     "output_type": "stream",
     "text": [
      "WARNING:root:Unknown position Phc in file: train\\50216_Phc_1_0.wav\n",
      "WARNING:root:Unknown position Phc in file: train\\50216_Phc_1_1.wav\n",
      "WARNING:root:Unknown position Phc in file: train\\50216_Phc_2_0.wav\n",
      "WARNING:root:Unknown position Phc in file: train\\50216_Phc_2_1.wav\n",
      "WARNING:root:Unknown position Phc in file: train\\50216_Phc_2_2.wav\n",
      "WARNING:root:Unknown position Phc in file: train\\50216_Phc_2_3.wav\n",
      "WARNING:root:Unknown position Phc in file: train\\50216_Phc_2_4.wav\n",
      "WARNING:root:Unknown position Phc in file: train\\50216_Phc_2_5.wav\n",
      "WARNING:root:Unknown position Phc in file: train\\50216_Phc_2_6.wav\n",
      "WARNING:root:Unknown position Phc in file: train\\50216_Phc_2_7.wav\n",
      "WARNING:root:Unknown position Phc in file: train\\50216_Phc_2_8.wav\n",
      "WARNING:root:Unknown position Phc in file: train\\50216_Phc_2_9.wav\n",
      "WARNING:root:Unknown position Phc in file: train\\50734_Phc_0.wav\n",
      "WARNING:root:Unknown position Phc in file: train\\50734_Phc_1.wav\n",
      "WARNING:root:Unknown position Phc in file: train\\50734_Phc_2.wav\n",
      "WARNING:root:Unknown position Phc in file: train\\50734_Phc_3.wav\n",
      "WARNING:root:Unknown position Phc in file: train\\50734_Phc_4.wav\n",
      "WARNING:root:Unknown position Phc in file: train\\50734_Phc_5.wav\n",
      "WARNING:root:Unknown position Phc in file: train\\50734_Phc_6.wav\n",
      "WARNING:root:Unknown position Phc in file: train\\50734_Phc_7.wav\n",
      "WARNING:root:Unknown position Phc in file: train\\50734_Phc_8.wav\n",
      "WARNING:root:Unknown position Phc in file: train\\50734_Phc_9.wav\n",
      "WARNING:root:Unknown position Phc in file: train\\50734_Phc_10.wav\n",
      "WARNING:root:Unknown position Phc in file: train\\50734_Phc_11.wav\n"
     ]
    },
    {
     "name": "stdout",
     "output_type": "stream",
     "text": [
      "Found 611 patients in train split\n",
      "Position segments count: {'MV': 5175, 'AV': 4367, 'PV': 4069, 'TV': 4111}\n",
      "Missing position count: {'MV': 53, 'AV': 102, 'PV': 122, 'TV': 143}\n",
      "self.multi_label:  False\n",
      "Generated 6110 training samples (611 unique patients)\n",
      "<evar.data.WavDataset_paired object at 0x0000011C6D3DD130>\n"
     ]
    }
   ],
   "source": [
    "import os\n",
    "os.chdir('F:/github/evar')\n",
    "from evar.data import WavDataset_paired\n",
    "config_file = 'config/m2d.yaml'\n",
    "task = 'circor1'\n",
    "options = 'weight_file=m2d_vit_base-80x608p16x16-221006-mr7/checkpoint-300.pth,encoder_only=True'\n",
    "weight_file = 'm2d_vit_base-80x608p16x16-221006-mr7/checkpoint-300.pth'\n",
    "unit_sec = None\n",
    "\n",
    "from lineareval import make_cfg\n",
    "cfg, n_folds, balanced = make_cfg(config_file, task, options, extras={}, abs_unit_sec=unit_sec)\n",
    "\n",
    "train_dataset = WavDataset_paired(cfg, 'train', holdout_fold=0, always_one_hot=True, random_crop=True)\n",
    "print(train_dataset)\n"
   ]
  }
 ],
 "metadata": {
  "kernelspec": {
   "display_name": "evar",
   "language": "python",
   "name": "python3"
  },
  "language_info": {
   "codemirror_mode": {
    "name": "ipython",
    "version": 3
   },
   "file_extension": ".py",
   "mimetype": "text/x-python",
   "name": "python",
   "nbconvert_exporter": "python",
   "pygments_lexer": "ipython3",
   "version": "3.9.23"
  }
 },
 "nbformat": 4,
 "nbformat_minor": 5
}
