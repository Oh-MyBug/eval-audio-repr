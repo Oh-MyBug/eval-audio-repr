{
 "cells": [
  {
   "cell_type": "markdown",
   "id": "15e15769",
   "metadata": {},
   "source": [
    "# Preparing pre-training data\n",
    "\n",
    "This notebook prepares the pre-training data (LMS files and list files) for the M2D pre-training for the ablation study of the paper.\n",
    "\n",
    "You need:\n",
    "- Prepare M2D pre-training on AudioSet in advance.\n",
    "- Collect respiratory sound data files from ICBHI 2017, CoughVIDE, and HF_Lung in advance.\n",
    "- Convert respiratory sound data files into log-mel spectrogram files.\n",
    "- Set the path `base` in the following cell.\n",
    "- Run all the cells.\n",
    "\n",
    "Running all cells will create data list files.\n",
    "\n",
    "\n",
    "### Converting respiratory sound data files into log-mel spectrogram files\n",
    "\n",
    "Please make sure you have collected respiratory sound data files in a local folder.\n",
    "Then, use the M2D's `wav_to_lms.py` to convert these files into a log-mel spectrogram (LMS) folder.\n",
    "\n",
    "```sh\n",
    "    python wav_to_lms.py /your/local/resp_wav /your/m2d/data/resp_lms\n",
    "```\n",
    "\n",
    "This example converts files from `/your/local/resp_wav` to `/your/m2d/data/resp_lms`. You will have the following folders.\n",
    "\n",
    "\n",
    "```\n",
    "    /your/m2d/data/resp_lms\n",
    "        coughvid\n",
    "        HF_Lung_V2\n",
    "        ICBHI2017\n",
    "```\n"
   ]
  },
  {
   "cell_type": "code",
   "execution_count": 1,
   "id": "def039f6",
   "metadata": {},
   "outputs": [
    {
     "name": "stderr",
     "output_type": "stream",
     "text": [
      "/tmp/ipykernel_1266164/458067731.py:5: DeprecationWarning: `magic(...)` is deprecated since IPython 0.13 (warning added in 8.1), use run_line_magic(magic_name, parameter_s).\n",
      "  ipython.magic('reload_ext autoreload')\n",
      "/tmp/ipykernel_1266164/458067731.py:6: DeprecationWarning: `magic(...)` is deprecated since IPython 0.13 (warning added in 8.1), use run_line_magic(magic_name, parameter_s).\n",
      "  ipython.magic('autoreload 2')\n",
      "/tmp/ipykernel_1266164/458067731.py:7: DeprecationWarning: `magic(...)` is deprecated since IPython 0.13 (warning added in 8.1), use run_line_magic(magic_name, parameter_s).\n",
      "  ipython.magic('matplotlib inline')\n"
     ]
    }
   ],
   "source": [
    "import IPython\n",
    "\n",
    "from IPython import get_ipython\n",
    "ipython = get_ipython()\n",
    "ipython.magic('reload_ext autoreload')\n",
    "ipython.magic('autoreload 2')\n",
    "ipython.magic('matplotlib inline')\n",
    "\n",
    "import matplotlib.pyplot as plt\n",
    "import numpy as np\n",
    "from pathlib import Path\n",
    "import pandas as pd"
   ]
  },
  {
   "cell_type": "code",
   "execution_count": null,
   "id": "9de3d508",
   "metadata": {},
   "outputs": [
    {
     "data": {
      "text/html": [
       "<div>\n",
       "<style scoped>\n",
       "    .dataframe tbody tr th:only-of-type {\n",
       "        vertical-align: middle;\n",
       "    }\n",
       "\n",
       "    .dataframe tbody tr th {\n",
       "        vertical-align: top;\n",
       "    }\n",
       "\n",
       "    .dataframe thead th {\n",
       "        text-align: right;\n",
       "    }\n",
       "</style>\n",
       "<table border=\"1\" class=\"dataframe\">\n",
       "  <thead>\n",
       "    <tr style=\"text-align: right;\">\n",
       "      <th></th>\n",
       "      <th>file_name</th>\n",
       "    </tr>\n",
       "    <tr>\n",
       "      <th>dataset</th>\n",
       "      <th></th>\n",
       "    </tr>\n",
       "  </thead>\n",
       "  <tbody>\n",
       "    <tr>\n",
       "      <th>HF_Lung_V2</th>\n",
       "      <td>3839</td>\n",
       "    </tr>\n",
       "    <tr>\n",
       "      <th>ICBHI2017</th>\n",
       "      <td>539</td>\n",
       "    </tr>\n",
       "    <tr>\n",
       "      <th>coughvid</th>\n",
       "      <td>7054</td>\n",
       "    </tr>\n",
       "  </tbody>\n",
       "</table>\n",
       "</div>"
      ],
      "text/plain": [
       "            file_name\n",
       "dataset              \n",
       "HF_Lung_V2       3839\n",
       "ICBHI2017         539\n",
       "coughvid         7054"
      ]
     },
     "execution_count": 2,
     "metadata": {},
     "output_type": "execute_result"
    }
   ],
   "source": [
    "# EDIT ME: YOUR M2D DATA PATH\n",
    "base = '/your/m2d/data'\n",
    "\n",
    "# Make the list of files under resp_lms.\n",
    "files = [str(f.relative_to(base)) for f in Path(base).glob('resp_lms/ICBHI2017/**/*.npy')]\n",
    "files += [str(f.relative_to(base)) for f in Path(base).glob('resp_lms/HF_Lung_V2/**/*.npy')]\n",
    "files += [str(f.relative_to(base)) for f in Path(base).glob('resp_lms/coughvid/**/*.npy')]\n",
    "\n",
    "df = pd.DataFrame({'file_name': sorted(files)})\n",
    "df['dataset'] = df.file_name.apply(lambda x: str(x).split('/')[1])\n",
    "df.groupby('dataset').count()\n"
   ]
  },
  {
   "cell_type": "code",
   "execution_count": 3,
   "id": "ab89e8b7",
   "metadata": {},
   "outputs": [
    {
     "data": {
      "text/html": [
       "<div>\n",
       "<style scoped>\n",
       "    .dataframe tbody tr th:only-of-type {\n",
       "        vertical-align: middle;\n",
       "    }\n",
       "\n",
       "    .dataframe tbody tr th {\n",
       "        vertical-align: top;\n",
       "    }\n",
       "\n",
       "    .dataframe thead th {\n",
       "        text-align: right;\n",
       "    }\n",
       "</style>\n",
       "<table border=\"1\" class=\"dataframe\">\n",
       "  <thead>\n",
       "    <tr style=\"text-align: right;\">\n",
       "      <th></th>\n",
       "      <th>file_name</th>\n",
       "    </tr>\n",
       "    <tr>\n",
       "      <th>dataset</th>\n",
       "      <th></th>\n",
       "    </tr>\n",
       "  </thead>\n",
       "  <tbody>\n",
       "    <tr>\n",
       "      <th>HF_Lung_V2</th>\n",
       "      <td>3839</td>\n",
       "    </tr>\n",
       "    <tr>\n",
       "      <th>ICBHI2017</th>\n",
       "      <td>3234</td>\n",
       "    </tr>\n",
       "    <tr>\n",
       "      <th>coughvid</th>\n",
       "      <td>7054</td>\n",
       "    </tr>\n",
       "  </tbody>\n",
       "</table>\n",
       "</div>"
      ],
      "text/plain": [
       "            file_name\n",
       "dataset              \n",
       "HF_Lung_V2       3839\n",
       "ICBHI2017        3234\n",
       "coughvid         7054"
      ]
     },
     "execution_count": 3,
     "metadata": {},
     "output_type": "execute_result"
    }
   ],
   "source": [
    "# Make the basic list of respiratory audio files.\n",
    "ICBHI2017 = df[df.dataset == 'ICBHI2017']\n",
    "d = pd.concat([df] + [ICBHI2017]*5)\n",
    "d.groupby('dataset').count()"
   ]
  },
  {
   "cell_type": "code",
   "execution_count": 4,
   "id": "b722f1ce",
   "metadata": {},
   "outputs": [
    {
     "data": {
      "text/plain": [
       "2005132"
      ]
     },
     "execution_count": 4,
     "metadata": {},
     "output_type": "execute_result"
    }
   ],
   "source": [
    "# Load AudioSet data list\n",
    "asdf = pd.read_csv(base + '/files_audioset.csv')\n",
    "len(asdf)"
   ]
  },
  {
   "cell_type": "markdown",
   "id": "993e4de7",
   "metadata": {},
   "source": [
    "## 100K to 500K"
   ]
  },
  {
   "cell_type": "code",
   "execution_count": 5,
   "id": "cd16a939",
   "metadata": {},
   "outputs": [
    {
     "name": "stdout",
     "output_type": "stream",
     "text": [
      "Total: 2005132 100K: 98889\n",
      "Total: 2005132 200K: 211905\n",
      "Total: 2005132 300K: 310794\n",
      "Total: 2005132 400K: 409683\n",
      "Total: 2005132 500K: 508572\n"
     ]
    }
   ],
   "source": [
    "total = pd.concat([asdf] + [d[['file_name']]] * 7)\n",
    "total.to_csv(base + '/files_A_S_R_F_M_1.csv', index=None)\n",
    "print('Total:', sum(total.file_name.str.startswith('audioset_lms')), '100K:', sum(total.file_name.str.startswith('resp_lms')))\n",
    "\n",
    "total = pd.concat([asdf] + [d[['file_name']]] * 15)\n",
    "total.to_csv(base + '/files_A_S_R_F_M_2.csv', index=None)\n",
    "print('Total:', sum(total.file_name.str.startswith('audioset_lms')), '200K:', sum(total.file_name.str.startswith('resp_lms')))\n",
    "\n",
    "total = pd.concat([asdf] + [d[['file_name']]] * 22)\n",
    "total.to_csv(base + '/files_A_S_R_F_M_3.csv', index=None)\n",
    "print('Total:', sum(total.file_name.str.startswith('audioset_lms')), '300K:', sum(total.file_name.str.startswith('resp_lms')))\n",
    "\n",
    "total = pd.concat([asdf] + [d[['file_name']]] * 29)\n",
    "total.to_csv(base + '/files_A_S_R_F_M_4.csv', index=None)\n",
    "print('Total:', sum(total.file_name.str.startswith('audioset_lms')), '400K:', sum(total.file_name.str.startswith('resp_lms')))\n",
    "\n",
    "total = pd.concat([asdf] + [d[['file_name']]] * 36)\n",
    "total.to_csv(base + '/files_A_S_R_F_M_5.csv', index=None)\n",
    "print('Total:', sum(total.file_name.str.startswith('audioset_lms')), '500K:', sum(total.file_name.str.startswith('resp_lms')))\n"
   ]
  },
  {
   "cell_type": "markdown",
   "id": "95e120b7",
   "metadata": {},
   "source": []
  }
 ],
 "metadata": {
  "kernelspec": {
   "display_name": "ar",
   "language": "python",
   "name": "python3"
  },
  "language_info": {
   "codemirror_mode": {
    "name": "ipython",
    "version": 3
   },
   "file_extension": ".py",
   "mimetype": "text/x-python",
   "name": "python",
   "nbconvert_exporter": "python",
   "pygments_lexer": "ipython3",
   "version": "3.9.18"
  }
 },
 "nbformat": 4,
 "nbformat_minor": 5
}
